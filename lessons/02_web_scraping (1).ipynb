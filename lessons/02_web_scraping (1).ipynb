{
 "cells": [
  {
   "cell_type": "markdown",
   "metadata": {},
   "source": [
    "# Web Scraping con Beautiful Soup.\n",
    "\n",
    "* * * \n",
    "\n",
    "### Iconos utilizados en este cuaderno\n",
    "🔔 **Pregunta**: Una pregunta rápida para ayudarte a entender lo que está pasando.<br>\n",
    "🥊 **Desafío**: Ejercicio interactivo. ¡Trabajaremos en estos durante el taller!<br>\n",
    "⚠️ **Advertencia**: Aviso sobre cosas complicadas o errores comunes.<br>\n",
    "💡 **Consejo**: Cómo hacer algo de manera más eficiente o efectiva.<br>\n",
    "🎬 **Demostración**: Mostrar algo más avanzado, para que sepas para qué se puede usar Python.<br>\n",
    "\n",
    "### Objetivos de aprendizaje\n",
    "1. [Reflexión: ¿Raspado o no raspado?](#when)\n",
    "2. [Extracción y análisis de HTML](#extract)\n",
    "3. [Raspado de la Asamblea General de Illinois](#scrape)\n"
   ]
  },
  {
   "cell_type": "markdown",
   "metadata": {},
   "source": [
    "<a id='when'></a>\n",
    "\n",
    "# Scrape o no Scrape\n",
    "\n",
    "Cuando queremos acceder a datos de la web, primero debemos asegurarnos de si el sitio web que nos interesa ofrece una API web. Plataformas como Twitter, Reddit y el New York Times ofrecen APIs. **Consulta el taller de APIs web de [Python de D-Labs](https://github.com/dlab-berkeley/Python-Web-APIs) si quieres aprender a usar APIs.**\n",
    "\n",
    "Sin embargo, a menudo hay casos en los que no existe una API web. En estos casos, podemos recurrir al web scraping, donde extraemos el HTML subyacente de una página web y obtenemos directamente la información que queremos. Hay varios paquetes en Python que podemos usar para realizar estas tareas. Nos centraremos en dos paquetes: Requests y Beautiful Soup.\n",
    "\n",
    "Nuestro estudio de caso será raspar información sobre los [senadores estatales de Illinois](http://www.ilga.gov/senate), así como la [lista de proyectos de ley](http://www.ilga.gov/senate/SenatorBills.asp?MemberID=1911&GA=98&Primary=True) que cada senador ha patrocinado. Antes de comenzar, revisa estos sitios web para ver su estructura.\n"
   ]
  },
  {
   "cell_type": "markdown",
   "metadata": {},
   "source": [
    "\n",
    "\n",
    "## Instalación\n",
    "\n",
    "Usaremos dos paquetes principales: [Requests](http://docs.python-requests.org/en/latest/user/quickstart/) y [Beautiful Soup](http://www.crummy.com/software/BeautifulSoup/bs4/doc/). Adelante, instala estos paquetes si aún no lo has hecho:\n"
   ]
  },
  {
   "cell_type": "code",
   "execution_count": 1,
   "metadata": {},
   "outputs": [
    {
     "name": "stdout",
     "output_type": "stream",
     "text": [
      "Requirement already satisfied: requests in /home/codespace/.local/lib/python3.12/site-packages (2.32.3)\n",
      "Requirement already satisfied: charset-normalizer<4,>=2 in /home/codespace/.local/lib/python3.12/site-packages (from requests) (3.4.1)\n",
      "Requirement already satisfied: idna<4,>=2.5 in /home/codespace/.local/lib/python3.12/site-packages (from requests) (3.10)\n",
      "Requirement already satisfied: urllib3<3,>=1.21.1 in /home/codespace/.local/lib/python3.12/site-packages (from requests) (2.3.0)\n",
      "Requirement already satisfied: certifi>=2017.4.17 in /home/codespace/.local/lib/python3.12/site-packages (from requests) (2025.1.31)\n",
      "Note: you may need to restart the kernel to use updated packages.\n"
     ]
    }
   ],
   "source": [
    "%pip install requests"
   ]
  },
  {
   "cell_type": "code",
   "execution_count": 2,
   "metadata": {},
   "outputs": [
    {
     "name": "stdout",
     "output_type": "stream",
     "text": [
      "Requirement already satisfied: beautifulsoup4 in /home/codespace/.local/lib/python3.12/site-packages (4.13.3)\n",
      "Requirement already satisfied: soupsieve>1.2 in /home/codespace/.local/lib/python3.12/site-packages (from beautifulsoup4) (2.6)\n",
      "Requirement already satisfied: typing-extensions>=4.0.0 in /home/codespace/.local/lib/python3.12/site-packages (from beautifulsoup4) (4.13.0)\n",
      "Note: you may need to restart the kernel to use updated packages.\n"
     ]
    }
   ],
   "source": [
    "%pip install beautifulsoup4"
   ]
  },
  {
   "cell_type": "markdown",
   "metadata": {},
   "source": [
    "También instalaremos el paquete `lxml` que ayuda a soportar parte del análisis que realiza Beautiful Soup:"
   ]
  },
  {
   "cell_type": "code",
   "execution_count": 3,
   "metadata": {},
   "outputs": [
    {
     "name": "stdout",
     "output_type": "stream",
     "text": [
      "Requirement already satisfied: lxml in /home/codespace/.local/lib/python3.12/site-packages (5.3.1)\n",
      "Note: you may need to restart the kernel to use updated packages.\n"
     ]
    }
   ],
   "source": [
    "%pip install lxml"
   ]
  },
  {
   "cell_type": "code",
   "execution_count": 4,
   "metadata": {
    "tags": []
   },
   "outputs": [],
   "source": [
    "# Import required libraries\n",
    "from bs4 import BeautifulSoup\n",
    "from datetime import datetime\n",
    "import requests\n",
    "import time"
   ]
  },
  {
   "cell_type": "markdown",
   "metadata": {},
   "source": [
    "<a id='extract'></a>\n",
    "\n",
    "# Extracción y Análisis de HTML \n",
    "\n",
    "Para realizar correctamente la extracción y el análisis de HTML, seguiremos los siguientes 4 pasos:\n",
    "1. Realizar una solicitud GET\n",
    "2. Analizar la página con Beautiful Soup\n",
    "3. Buscar elementos HTML\n",
    "4. Obtener atributos y texto de estos elementos"
   ]
  },
  {
   "cell_type": "markdown",
   "metadata": {},
   "source": [
    "## Paso 1: Realizar una Solicitud GET para Obtener el HTML de una Página\n",
    "\n",
    "Podemos usar la biblioteca Requests para:\n",
    "\n",
    "1. Hacer una solicitud GET a la página, y  \n",
    "2. Leer el código HTML de la página web.\n",
    "\n",
    "El proceso de realizar una solicitud y obtener un resultado se asemeja al flujo de trabajo de una API web. Sin embargo, en este caso, estamos haciendo una solicitud directamente al sitio web, y tendremos que analizar el HTML por nuestra cuenta. Esto contrasta con recibir datos organizados en un formato más sencillo como `JSON` o `XML`.\n"
   ]
  },
  {
   "cell_type": "code",
   "execution_count": 5,
   "metadata": {
    "tags": []
   },
   "outputs": [],
   "source": [
    "# Make a GET request\n",
    "req = requests.get('http://www.ilga.gov/senate/default.asp')\n",
    "# Read the content of the server’s response\n",
    "src = req.text\n",
    "# Parse the response into an HTML tree\n",
    "soup = BeautifulSoup(src, 'lxml')"
   ]
  },
  {
   "cell_type": "markdown",
   "metadata": {},
   "source": [
    "## Paso 2: Analizar la Página con Beautiful Soup\n",
    "\n",
    "Ahora utilizamos la función `BeautifulSoup` para analizar la respuesta y convertirla en un árbol HTML. Esto devuelve un objeto (llamado **soup object**) que contiene todo el HTML del documento original.\n",
    "\n",
    "Si encuentras un error relacionado con una biblioteca de análisis, asegúrate de haber instalado el paquete `lxml` para proporcionar a Beautiful Soup las herramientas necesarias para el análisis."
   ]
  },
  {
   "cell_type": "code",
   "execution_count": 6,
   "metadata": {},
   "outputs": [
    {
     "name": "stdout",
     "output_type": "stream",
     "text": [
      "<html lang=\"en\">\n",
      " <!-- Trigger/Open The Modal -->\n",
      " <body>\n",
      "  <div style=\"position: fixed; z-index: 999; top: 5; left: 600; background-color: navy; display: block\">\n",
      "   <button id=\"myBtn\" style=\"color: white; background-color: navy; display: block\">\n",
      "    Translate Website\n",
      "   </button>\n",
      "  </div>\n",
      "  <!-- The Modal -->\n",
      "  <div class=\"modal\" id=\"myModal\" style=\"display: none\">\n",
      "   <!-- Modal content -->\n",
      "   <div class=\"modal-content\">\n",
      "    <div class=\"modal-header\">\n",
      "     <h3>\n",
      "      <span class=\"close\">\n",
      "       ×\n",
      "      </span>\n",
      "     </h3>\n",
      "    </div>\n",
      "    <p>\n",
      "     The Illinois General Assembly offers the Google Translate service for visitor convenience. In no way should it be considered accurate as to the translation of any content herein.\n",
      "    </p>\n",
      "    <p>\n",
      "     Visitors of the Illinois General Assembly website are encouraged to use other translation services available on the internet.\n",
      "    </p>\n",
      "    <p>\n",
      "     The English language version is always the official and authoritative version of this website.\n",
      "   \n"
     ]
    }
   ],
   "source": [
    "# Parse the response into an HTML tree\n",
    "soup = BeautifulSoup(src, 'lxml')\n",
    "# Take a look\n",
    "print(soup.prettify()[:1000])"
   ]
  },
  {
   "cell_type": "markdown",
   "metadata": {},
   "source": [
    "La salida se ve bastante similar a la anterior, pero ahora está organizada en un objeto `soup`, lo que nos permite recorrer la página con mayor facilidad.\n"
   ]
  },
  {
   "cell_type": "markdown",
   "metadata": {},
   "source": [
    "## Paso 3: Buscar Elementos HTML\n",
    "\n",
    "Beautiful Soup ofrece varias funciones para encontrar componentes útiles en una página. Permite buscar elementos utilizando:\n",
    "\n",
    "1. Etiquetas HTML  \n",
    "2. Atributos HTML  \n",
    "3. Selectores CSS  \n",
    "\n",
    "Primero, busquemos **etiquetas HTML**.  \n",
    "\n",
    "La función `find_all` busca en el árbol de `soup` todos los elementos con una etiqueta HTML específica y devuelve todos esos elementos.\n",
    "\n",
    "**¿Qué hace el siguiente ejemplo?**\n",
    "\n"
   ]
  },
  {
   "cell_type": "code",
   "execution_count": 7,
   "metadata": {},
   "outputs": [
    {
     "name": "stdout",
     "output_type": "stream",
     "text": [
      "[<a class=\"goog-logo-link\" href=\"https://translate.google.com\" target=\"_blank\"><img alt=\"Google Translate\" height=\"14\" src=\"https://www.gstatic.com/images/branding/googlelogo/1x/googlelogo_color_42x16dp.png\" style=\"padding-right: 3px;\" width=\"37\"/>Translate</a>, <a href=\"/default.asp\"><img alt=\"Illinois General Assembly\" border=\"0\" height=\"49\" src=\"/images/logo_sm.gif\" width=\"462\"/></a>, <a class=\"mainmenu\" href=\"/\">Home</a>, <a class=\"mainmenu\" href=\"/legislation/\" onblur=\"HM_f_PopDown('elMenu1')\" onfocus=\"HM_f_PopUp('elMenu1',event)\" onmouseout=\"HM_f_PopDown('elMenu1')\" onmouseover=\"HM_f_PopUp('elMenu1',event)\">Legislation &amp; Laws</a>, <a class=\"mainmenu\" href=\"/senate/\" onblur=\"HM_f_PopDown('elMenu3')\" onfocus=\"HM_f_PopUp('elMenu3',event)\" onmouseout=\"HM_f_PopDown('elMenu3')\" onmouseover=\"HM_f_PopUp('elMenu3',event)\">Senate</a>, <a class=\"mainmenu\" href=\"/house/\" onblur=\"HM_f_PopDown('elMenu2')\" onfocus=\"HM_f_PopUp('elMenu2',event)\" onmouseout=\"HM_f_PopDown('elMenu2')\" onmouseover=\"HM_f_PopUp('elMenu2',event)\">House</a>, <a class=\"mainmenu\" href=\"/mylegislation/\" onblur=\"HM_f_PopDown('elMenu4')\" onfocus=\"HM_f_PopUp('elMenu4',event)\" onmouseout=\"HM_f_PopDown('elMenu4')\" onmouseover=\"HM_f_PopUp('elMenu4',event)\">My Legislation</a>, <a class=\"mainmenu\" href=\"/sitemap.asp\">Site Map</a>, <a class=\"sidemenu\" href=\"/senate/default.asp\">  Members  </a>, <a class=\"sidemenu\" href=\"/senate/committees/default.asp\">  Committees  </a>]\n"
     ]
    }
   ],
   "source": [
    "# Find all elements with a certain tag\n",
    "a_tags = soup.find_all(\"a\")\n",
    "print(a_tags[:10])"
   ]
  },
  {
   "cell_type": "markdown",
   "metadata": {},
   "source": [
    "Dado que `find_all()` es el método más popular en la API de búsqueda de Beautiful Soup, existe un atajo para usarlo. Si tratas al objeto `BeautifulSoup` como si fuera una función, es equivalente a llamar a `find_all()` en ese objeto.\n",
    "\n",
    "Estas dos líneas de código son equivalentes:"
   ]
  },
  {
   "cell_type": "code",
   "execution_count": 8,
   "metadata": {
    "tags": []
   },
   "outputs": [
    {
     "name": "stdout",
     "output_type": "stream",
     "text": [
      "<a class=\"goog-logo-link\" href=\"https://translate.google.com\" target=\"_blank\"><img alt=\"Google Translate\" height=\"14\" src=\"https://www.gstatic.com/images/branding/googlelogo/1x/googlelogo_color_42x16dp.png\" style=\"padding-right: 3px;\" width=\"37\"/>Translate</a>\n",
      "<a class=\"goog-logo-link\" href=\"https://translate.google.com\" target=\"_blank\"><img alt=\"Google Translate\" height=\"14\" src=\"https://www.gstatic.com/images/branding/googlelogo/1x/googlelogo_color_42x16dp.png\" style=\"padding-right: 3px;\" width=\"37\"/>Translate</a>\n"
     ]
    }
   ],
   "source": [
    "a_tags = soup.find_all(\"a\")\n",
    "a_tags_alt = soup(\"a\")\n",
    "print(a_tags[0])\n",
    "print(a_tags_alt[0])"
   ]
  },
  {
   "cell_type": "markdown",
   "metadata": {},
   "source": [
    "¿Cuántos enlaces obtuvimos?"
   ]
  },
  {
   "cell_type": "code",
   "execution_count": 9,
   "metadata": {},
   "outputs": [
    {
     "name": "stdout",
     "output_type": "stream",
     "text": [
      "213\n"
     ]
    }
   ],
   "source": [
    "print(len(a_tags))"
   ]
  },
  {
   "cell_type": "markdown",
   "metadata": {},
   "source": [
    "¡Eso es mucho! Muchos elementos en una página tendrán la misma etiqueta HTML. Por ejemplo, si buscas todo lo que tenga la etiqueta `a`, probablemente obtendrás muchos resultados, muchos de los cuales quizás no quieras. Recuerda que la etiqueta `a` define un hipervínculo, por lo que generalmente encontrarás muchos en cualquier página.\n",
    "\n",
    "¿Qué pasa si queremos buscar etiquetas HTML con ciertos atributos, como clases CSS específicas?\n",
    "\n",
    "Podemos hacerlo agregando un argumento adicional a la función `find_all`. En el ejemplo siguiente, estamos encontrando todas las etiquetas `a` y luego filtrando aquellas con `class_=\"sidemenu\"`:\n"
   ]
  },
  {
   "cell_type": "code",
   "execution_count": 10,
   "metadata": {
    "tags": []
   },
   "outputs": [
    {
     "data": {
      "text/plain": [
       "[<a class=\"sidemenu\" href=\"/senate/default.asp\">  Members  </a>,\n",
       " <a class=\"sidemenu\" href=\"/senate/committees/default.asp\">  Committees  </a>,\n",
       " <a class=\"sidemenu\" href=\"/senate/schedules/default.asp\">  Schedules  </a>,\n",
       " <a class=\"sidemenu\" href=\"/senate/journals/default.asp\">  Journals  </a>,\n",
       " <a class=\"sidemenu\" href=\"/senate/transcripts/default.asp\">  Transcripts  </a>]"
      ]
     },
     "execution_count": 10,
     "metadata": {},
     "output_type": "execute_result"
    }
   ],
   "source": [
    "# Get only the 'a' tags in 'sidemenu' class\n",
    "side_menus = soup(\"a\", class_=\"sidemenu\")\n",
    "side_menus[:5]"
   ]
  },
  {
   "cell_type": "markdown",
   "metadata": {},
   "source": [
    "Una forma más eficiente de buscar elementos en un sitio web es a través de un **selector CSS**. Para esto, debemos usar un método diferente llamado `select()`. Solo tienes que pasar una cadena al método `.select()` para obtener todos los elementos que coincidan con ese selector CSS válido.\n",
    "\n",
    "En el ejemplo anterior, podemos usar `\"a.sidemenu\"` como selector CSS, lo que devuelve todas las etiquetas `a` con la clase `sidemenu`.\n",
    "\n"
   ]
  },
  {
   "cell_type": "code",
   "execution_count": 11,
   "metadata": {
    "tags": []
   },
   "outputs": [
    {
     "data": {
      "text/plain": [
       "[<a class=\"sidemenu\" href=\"/senate/default.asp\">  Members  </a>,\n",
       " <a class=\"sidemenu\" href=\"/senate/committees/default.asp\">  Committees  </a>,\n",
       " <a class=\"sidemenu\" href=\"/senate/schedules/default.asp\">  Schedules  </a>,\n",
       " <a class=\"sidemenu\" href=\"/senate/journals/default.asp\">  Journals  </a>,\n",
       " <a class=\"sidemenu\" href=\"/senate/transcripts/default.asp\">  Transcripts  </a>]"
      ]
     },
     "execution_count": 11,
     "metadata": {},
     "output_type": "execute_result"
    }
   ],
   "source": [
    "# Get elements with \"a.sidemenu\" CSS Selector.\n",
    "selected = soup.select(\"a.sidemenu\")\n",
    "selected[:5]"
   ]
  },
  {
   "cell_type": "markdown",
   "metadata": {},
   "source": [
    "## 🥊 Desafío: Encontrar Todos\n",
    "\n",
    "Usa BeautifulSoup para encontrar todos los elementos `a` con la clase `mainmenu`."
   ]
  },
  {
   "cell_type": "code",
   "execution_count": 12,
   "metadata": {},
   "outputs": [
    {
     "data": {
      "text/plain": [
       "[<a class=\"mainmenu\" href=\"/\">Home</a>,\n",
       " <a class=\"mainmenu\" href=\"/legislation/\" onblur=\"HM_f_PopDown('elMenu1')\" onfocus=\"HM_f_PopUp('elMenu1',event)\" onmouseout=\"HM_f_PopDown('elMenu1')\" onmouseover=\"HM_f_PopUp('elMenu1',event)\">Legislation &amp; Laws</a>,\n",
       " <a class=\"mainmenu\" href=\"/senate/\" onblur=\"HM_f_PopDown('elMenu3')\" onfocus=\"HM_f_PopUp('elMenu3',event)\" onmouseout=\"HM_f_PopDown('elMenu3')\" onmouseover=\"HM_f_PopUp('elMenu3',event)\">Senate</a>,\n",
       " <a class=\"mainmenu\" href=\"/house/\" onblur=\"HM_f_PopDown('elMenu2')\" onfocus=\"HM_f_PopUp('elMenu2',event)\" onmouseout=\"HM_f_PopDown('elMenu2')\" onmouseover=\"HM_f_PopUp('elMenu2',event)\">House</a>,\n",
       " <a class=\"mainmenu\" href=\"/mylegislation/\" onblur=\"HM_f_PopDown('elMenu4')\" onfocus=\"HM_f_PopUp('elMenu4',event)\" onmouseout=\"HM_f_PopDown('elMenu4')\" onmouseover=\"HM_f_PopUp('elMenu4',event)\">My Legislation</a>,\n",
       " <a class=\"mainmenu\" href=\"/sitemap.asp\">Site Map</a>]"
      ]
     },
     "execution_count": 12,
     "metadata": {},
     "output_type": "execute_result"
    }
   ],
   "source": [
    "# YOUR CODE HERE\n",
    "soup.select(\"a.mainmenu\")"
   ]
  },
  {
   "cell_type": "code",
   "execution_count": 13,
   "metadata": {},
   "outputs": [
    {
     "data": {
      "text/plain": [
       "['/',\n",
       " '/legislation/',\n",
       " '/senate/',\n",
       " '/house/',\n",
       " '/mylegislation/',\n",
       " '/sitemap.asp']"
      ]
     },
     "execution_count": 13,
     "metadata": {},
     "output_type": "execute_result"
    }
   ],
   "source": [
    "[link['href'] for link in soup.select(\"a.mainmenu\")]"
   ]
  },
  {
   "cell_type": "markdown",
   "metadata": {},
   "source": [
    "## Paso 4: Obtener Atributos y Texto de los Elementos\n",
    "\n",
    "Una vez que identificamos los elementos, queremos acceder a la información dentro de ellos. Generalmente, esto significa dos cosas:\n",
    "\n",
    "1. Texto  \n",
    "2. Atributos  \n",
    "\n",
    "Obtener el texto dentro de un elemento es fácil. Todo lo que tenemos que hacer es usar el miembro `text` de un objeto `tag`:"
   ]
  },
  {
   "cell_type": "code",
   "execution_count": 14,
   "metadata": {
    "tags": []
   },
   "outputs": [
    {
     "name": "stdout",
     "output_type": "stream",
     "text": [
      "<a class=\"sidemenu\" href=\"/senate/default.asp\">  Members  </a>\n",
      "Class:  <class 'bs4.element.Tag'>\n"
     ]
    }
   ],
   "source": [
    "# Get all sidemenu links as a list\n",
    "side_menu_links = soup.select(\"a.sidemenu\")\n",
    "\n",
    "# Examine the first link\n",
    "first_link = side_menu_links[0]\n",
    "print(first_link)\n",
    "\n",
    "# What class is this variable?\n",
    "print('Class: ', type(first_link))"
   ]
  },
  {
   "cell_type": "markdown",
   "metadata": {},
   "source": [
    "¡Es una etiqueta de Beautiful Soup! Esto significa que tiene un miembro `text`:"
   ]
  },
  {
   "cell_type": "code",
   "execution_count": 15,
   "metadata": {
    "tags": []
   },
   "outputs": [
    {
     "name": "stdout",
     "output_type": "stream",
     "text": [
      "  Members  \n"
     ]
    }
   ],
   "source": [
    "print(first_link.text)"
   ]
  },
  {
   "cell_type": "markdown",
   "metadata": {},
   "source": [
    "A veces queremos obtener el valor de ciertos atributos. Esto es particularmente relevante para las etiquetas `a`, o enlaces, donde el atributo `href` nos indica a dónde lleva el enlace.\n",
    "\n",
    "💡 **Consejo**: Puedes acceder a los atributos de una etiqueta tratándola como un diccionario:"
   ]
  },
  {
   "cell_type": "code",
   "execution_count": 16,
   "metadata": {
    "tags": []
   },
   "outputs": [
    {
     "name": "stdout",
     "output_type": "stream",
     "text": [
      "/senate/default.asp\n"
     ]
    }
   ],
   "source": [
    "print(first_link['href'])"
   ]
  },
  {
   "cell_type": "markdown",
   "metadata": {},
   "source": [
    "## 🥊 Desafío: Extraer atributos específicos\n",
    "\n",
    "Extrae todos los atributos `href` de cada URL con la clase `mainmenu`."
   ]
  },
  {
   "cell_type": "code",
   "execution_count": 17,
   "metadata": {},
   "outputs": [
    {
     "data": {
      "text/plain": [
       "['/',\n",
       " '/legislation/',\n",
       " '/senate/',\n",
       " '/house/',\n",
       " '/mylegislation/',\n",
       " '/sitemap.asp']"
      ]
     },
     "execution_count": 17,
     "metadata": {},
     "output_type": "execute_result"
    }
   ],
   "source": [
    "# YOUR CODE HERE\n",
    "[link['href'] for link in soup.select(\"a.mainmenu\")]"
   ]
  },
  {
   "cell_type": "markdown",
   "metadata": {},
   "source": [
    "<a id='scrape'></a>\n",
    "\n",
    "# Arrastrando la Asamblea General de Illinois\n",
    "Aunque parezca increíble, estas son las herramientas fundamentales para arrastrar un sitio web. Una vez que dediques más tiempo a familiarizarte con HTML y CSS, simplemente será cuestión de comprender la estructura de un sitio web en particular y aplicar inteligentemente las herramientas de Beautiful Soup y Python.\n",
    "\n",
    "Apliquemos estas habilidades para arrastrar la [104.ª Asamblea General de Illinois](http://www.ilga.gov/senate/default.asp?GA=104)..\n",
    "\n",
    "En concreto, nuestro objetivo es arrastrar información sobre cada senador, incluyendo su nombre, distrito y partido."
   ]
  },
  {
   "cell_type": "markdown",
   "metadata": {},
   "source": [
    "## Arrastrar y Disolver la página web\n",
    "\n",
    "Arrastrar y Analizar la página web con las herramientas que aprendimos en la sección anterior."
   ]
  },
  {
   "cell_type": "code",
   "execution_count": 18,
   "metadata": {
    "tags": []
   },
   "outputs": [],
   "source": [
    "# Make a GET request\n",
    "req = requests.get('http://www.ilga.gov/senate/default.asp?GA=104')\n",
    "# Read the content of the server’s response\n",
    "src = req.text\n",
    "# Soup it\n",
    "soup = BeautifulSoup(src, \"lxml\")"
   ]
  },
  {
   "cell_type": "markdown",
   "metadata": {},
   "source": [
    "## Buscar los elementos de la tabla\n",
    "\n",
    "Nuestro objetivo es obtener los elementos de la tabla en la página web. Recuerda: las filas se identifican con la etiqueta `tr`. Usaremos `find_all` para obtener estos elementos."
   ]
  },
  {
   "cell_type": "code",
   "execution_count": 19,
   "metadata": {},
   "outputs": [
    {
     "data": {
      "text/plain": [
       "80"
      ]
     },
     "execution_count": 19,
     "metadata": {},
     "output_type": "execute_result"
    }
   ],
   "source": [
    "# Get all table row elements\n",
    "rows = soup.find_all(\"tr\")\n",
    "len(rows)"
   ]
  },
  {
   "cell_type": "markdown",
   "metadata": {},
   "source": [
    "⚠️ **Advertencia**: Recuerda: `find_all` obtiene todos los elementos con la etiqueta `tr`. Solo necesitamos algunos. Si usamos la función \"Inspeccionar\" en Google Chrome y observamos con atención, podemos usar selectores CSS para obtener solo las filas que nos interesan. En concreto, queremos las filas internas de la tabla:"
   ]
  },
  {
   "cell_type": "code",
   "execution_count": 21,
   "metadata": {},
   "outputs": [
    {
     "name": "stdout",
     "output_type": "stream",
     "text": [
      "<tr><td colspan=\"5\">\n",
      "<span class=\"heading\">Current Senate Members</span>\n",
      "<span class=\"italics\">  104th  General Assembly</span><br/>\n",
      "<!-- 3/2/09 temp comment out until fixed for GA specific-->\n",
      "<!-- add 97th ga currently no info -->\n",
      "<a href=\"104th_Senate_Leadership.pdf\">Leadership</a> <a href=\"104th_Senate_Officers.pdf\">Officers</a> <a href=\"104th_Senate_Seating_Chart.pdf\">Senate Seating Chart</a>  <span class=\"content\"><b>Democrats:</b> 40   <b>Republicans:</b> 19</span><br/>\n",
      "</td></tr> \n",
      "\n",
      "<tr>\n",
      "<td class=\"header\" width=\"45%\"><a class=\"filetab\" href=\"javascript:Sort('LastName','',104);\" title=\"Sort by Senator\">Senator</a></td>\n",
      "<td align=\"center\" class=\"header\" width=\"15%\">Bills</td>\n",
      "<td align=\"center\" class=\"header\" width=\"10%\">Committees</td>\n",
      "<td align=\"center\" class=\"header\" width=\"15%\"><a class=\"filetab\" href=\"javascript:Sort('DistrictNumber','',104);\" title=\"Sort by District\">District</a></td>\n",
      "<td align=\"center\" class=\"header\" width=\"15%\"><a class=\"filetab\" href=\"javascript:Sort('Party','',104);\" title=\"Sort by Party\">Party</a></td>\n",
      "</tr> \n",
      "\n",
      "<tr><td bgcolor=\"white\" class=\"detail\" width=\"40%\"><a class=\"notranslate\" href=\"/senate/Senator.asp?GA=104&amp;MemberID=3312\">Neil Anderson</a></td><td align=\"center\" bgcolor=\"white\" class=\"detail\" width=\"15%\"><a href=\"SenatorBills.asp?MemberID=3312\">Bills</a></td><td align=\"center\" bgcolor=\"white\" class=\"detail\" width=\"15%\"><a href=\"SenCommittees.asp?MemberID=3312\">Committees</a></td><td align=\"center\" bgcolor=\"white\" class=\"detail\" width=\"15%\">47</td><td align=\"center\" bgcolor=\"white\" class=\"detail\" width=\"15%\">R</td></tr> \n",
      "\n",
      "<tr><td bgcolor=\"EBEBEB\" class=\"detail\" width=\"40%\"><a class=\"notranslate\" href=\"/senate/Senator.asp?GA=104&amp;MemberID=3316\">Omar Aquino</a></td><td align=\"center\" bgcolor=\"EBEBEB\" class=\"detail\" width=\"15%\"><a href=\"SenatorBills.asp?MemberID=3316\">Bills</a></td><td align=\"center\" bgcolor=\"EBEBEB\" class=\"detail\" width=\"15%\"><a href=\"SenCommittees.asp?MemberID=3316\">Committees</a></td><td align=\"center\" bgcolor=\"EBEBEB\" class=\"detail\" width=\"15%\">2</td><td align=\"center\" bgcolor=\"EBEBEB\" class=\"detail\" width=\"15%\">D</td></tr> \n",
      "\n",
      "<tr><td bgcolor=\"white\" class=\"detail\" width=\"40%\"><a class=\"notranslate\" href=\"/senate/Senator.asp?GA=104&amp;MemberID=3383\">Li Arellano, Jr.</a></td><td align=\"center\" bgcolor=\"white\" class=\"detail\" width=\"15%\"><a href=\"SenatorBills.asp?MemberID=3383\">Bills</a></td><td align=\"center\" bgcolor=\"white\" class=\"detail\" width=\"15%\"><a href=\"SenCommittees.asp?MemberID=3383\">Committees</a></td><td align=\"center\" bgcolor=\"white\" class=\"detail\" width=\"15%\">37</td><td align=\"center\" bgcolor=\"white\" class=\"detail\" width=\"15%\">R</td></tr> \n",
      "\n"
     ]
    }
   ],
   "source": [
    "# Returns every ‘tr tr tr’ css selector in the page\n",
    "rows = soup.select('tr tr tr')\n",
    "\n",
    "for row in rows[:5]:\n",
    "    print(row, '\\n')"
   ]
  },
  {
   "cell_type": "markdown",
   "metadata": {},
   "source": [
    "Parece que queremos todo lo que queda después de las dos primeras filas. Empecemos con una sola fila y construyamos nuestro bucle a partir de ahí."
   ]
  },
  {
   "cell_type": "code",
   "execution_count": 22,
   "metadata": {},
   "outputs": [
    {
     "name": "stdout",
     "output_type": "stream",
     "text": [
      "<tr>\n",
      " <td bgcolor=\"white\" class=\"detail\" width=\"40%\">\n",
      "  <a class=\"notranslate\" href=\"/senate/Senator.asp?GA=104&amp;MemberID=3312\">\n",
      "   Neil Anderson\n",
      "  </a>\n",
      " </td>\n",
      " <td align=\"center\" bgcolor=\"white\" class=\"detail\" width=\"15%\">\n",
      "  <a href=\"SenatorBills.asp?MemberID=3312\">\n",
      "   Bills\n",
      "  </a>\n",
      " </td>\n",
      " <td align=\"center\" bgcolor=\"white\" class=\"detail\" width=\"15%\">\n",
      "  <a href=\"SenCommittees.asp?MemberID=3312\">\n",
      "   Committees\n",
      "  </a>\n",
      " </td>\n",
      " <td align=\"center\" bgcolor=\"white\" class=\"detail\" width=\"15%\">\n",
      "  47\n",
      " </td>\n",
      " <td align=\"center\" bgcolor=\"white\" class=\"detail\" width=\"15%\">\n",
      "  R\n",
      " </td>\n",
      "</tr>\n",
      "\n"
     ]
    }
   ],
   "source": [
    "example_row = rows[2]\n",
    "print(example_row.prettify())"
   ]
  },
  {
   "cell_type": "markdown",
   "metadata": {},
   "source": [
    "Desglosemos esta fila en sus celdas/columnas mediante el método `select` con los métodos CSS. Si analizamos el HTML con atención, hay un par de maneras de hacerlo.\n",
    "\n",
    "* Podríamos identificar las celdas por su etiqueta `td`.\n",
    "* Podríamos usar el nombre de clase `.detail`.\n",
    "* Podríamos combinar ambos y usar el selector `td.detail`."
   ]
  },
  {
   "cell_type": "code",
   "execution_count": 23,
   "metadata": {},
   "outputs": [
    {
     "name": "stdout",
     "output_type": "stream",
     "text": [
      "<td bgcolor=\"white\" class=\"detail\" width=\"40%\"><a class=\"notranslate\" href=\"/senate/Senator.asp?GA=104&amp;MemberID=3312\">Neil Anderson</a></td>\n",
      "<td align=\"center\" bgcolor=\"white\" class=\"detail\" width=\"15%\"><a href=\"SenatorBills.asp?MemberID=3312\">Bills</a></td>\n",
      "<td align=\"center\" bgcolor=\"white\" class=\"detail\" width=\"15%\"><a href=\"SenCommittees.asp?MemberID=3312\">Committees</a></td>\n",
      "<td align=\"center\" bgcolor=\"white\" class=\"detail\" width=\"15%\">47</td>\n",
      "<td align=\"center\" bgcolor=\"white\" class=\"detail\" width=\"15%\">R</td>\n",
      "\n",
      "<td bgcolor=\"white\" class=\"detail\" width=\"40%\"><a class=\"notranslate\" href=\"/senate/Senator.asp?GA=104&amp;MemberID=3312\">Neil Anderson</a></td>\n",
      "<td align=\"center\" bgcolor=\"white\" class=\"detail\" width=\"15%\"><a href=\"SenatorBills.asp?MemberID=3312\">Bills</a></td>\n",
      "<td align=\"center\" bgcolor=\"white\" class=\"detail\" width=\"15%\"><a href=\"SenCommittees.asp?MemberID=3312\">Committees</a></td>\n",
      "<td align=\"center\" bgcolor=\"white\" class=\"detail\" width=\"15%\">47</td>\n",
      "<td align=\"center\" bgcolor=\"white\" class=\"detail\" width=\"15%\">R</td>\n",
      "\n",
      "<td bgcolor=\"white\" class=\"detail\" width=\"40%\"><a class=\"notranslate\" href=\"/senate/Senator.asp?GA=104&amp;MemberID=3312\">Neil Anderson</a></td>\n",
      "<td align=\"center\" bgcolor=\"white\" class=\"detail\" width=\"15%\"><a href=\"SenatorBills.asp?MemberID=3312\">Bills</a></td>\n",
      "<td align=\"center\" bgcolor=\"white\" class=\"detail\" width=\"15%\"><a href=\"SenCommittees.asp?MemberID=3312\">Committees</a></td>\n",
      "<td align=\"center\" bgcolor=\"white\" class=\"detail\" width=\"15%\">47</td>\n",
      "<td align=\"center\" bgcolor=\"white\" class=\"detail\" width=\"15%\">R</td>\n",
      "\n"
     ]
    }
   ],
   "source": [
    "for cell in example_row.select('td'):\n",
    "    print(cell)\n",
    "print()\n",
    "\n",
    "for cell in example_row.select('.detail'):\n",
    "    print(cell)\n",
    "print()\n",
    "\n",
    "for cell in example_row.select('td.detail'):\n",
    "    print(cell)\n",
    "print()"
   ]
  },
  {
   "cell_type": "markdown",
   "metadata": {},
   "source": [
    "Podemos confirmar que todas son iguales."
   ]
  },
  {
   "cell_type": "code",
   "execution_count": 24,
   "metadata": {
    "tags": []
   },
   "outputs": [],
   "source": [
    "assert example_row.select('td') == example_row.select('.detail') == example_row.select('td.detail')"
   ]
  },
  {
   "cell_type": "markdown",
   "metadata": {},
   "source": [
    "Utilicemos el selector `td.detail` para ser lo más específicos posibles."
   ]
  },
  {
   "cell_type": "code",
   "execution_count": 25,
   "metadata": {},
   "outputs": [
    {
     "data": {
      "text/plain": [
       "[<td bgcolor=\"white\" class=\"detail\" width=\"40%\"><a class=\"notranslate\" href=\"/senate/Senator.asp?GA=104&amp;MemberID=3312\">Neil Anderson</a></td>,\n",
       " <td align=\"center\" bgcolor=\"white\" class=\"detail\" width=\"15%\"><a href=\"SenatorBills.asp?MemberID=3312\">Bills</a></td>,\n",
       " <td align=\"center\" bgcolor=\"white\" class=\"detail\" width=\"15%\"><a href=\"SenCommittees.asp?MemberID=3312\">Committees</a></td>,\n",
       " <td align=\"center\" bgcolor=\"white\" class=\"detail\" width=\"15%\">47</td>,\n",
       " <td align=\"center\" bgcolor=\"white\" class=\"detail\" width=\"15%\">R</td>]"
      ]
     },
     "execution_count": 25,
     "metadata": {},
     "output_type": "execute_result"
    }
   ],
   "source": [
    "# Select only those 'td' tags with class 'detail' \n",
    "detail_cells = example_row.select('td.detail')\n",
    "detail_cells"
   ]
  },
  {
   "cell_type": "markdown",
   "metadata": {},
   "source": [
    "La mayoría de las veces, nos interesa el **texto** real de un sitio web, no sus etiquetas. Recordemos que para obtener el texto de un elemento HTML, usamos el `text` member:"
   ]
  },
  {
   "cell_type": "code",
   "execution_count": 26,
   "metadata": {},
   "outputs": [
    {
     "name": "stdout",
     "output_type": "stream",
     "text": [
      "['Neil Anderson', 'Bills', 'Committees', '47', 'R']\n"
     ]
    }
   ],
   "source": [
    "# Keep only the text in each of those cells\n",
    "row_data = [cell.text for cell in detail_cells]\n",
    "\n",
    "print(row_data)"
   ]
  },
  {
   "cell_type": "markdown",
   "metadata": {},
   "source": [
    "¡Se ve bien! Ahora solo necesitamos usar nuestros conocimientos básicos de Python para obtener los elementos de esta lista que necesitamos. Recuerda: queremos el nombre del senador, su distrito y su partido."
   ]
  },
  {
   "cell_type": "code",
   "execution_count": 27,
   "metadata": {},
   "outputs": [
    {
     "name": "stdout",
     "output_type": "stream",
     "text": [
      "Neil Anderson\n",
      "47\n",
      "R\n"
     ]
    }
   ],
   "source": [
    "print(row_data[0]) # Name\n",
    "print(row_data[3]) # District\n",
    "print(row_data[4]) # Party"
   ]
  },
  {
   "cell_type": "markdown",
   "metadata": {},
   "source": [
    "## Eliminando las filas basura\n",
    "\n",
    "Vimos al principio que no todas las filas que obtuvimos corresponden a un senador. Tendremos que hacer limpieza antes de continuar. Veamos algunos ejemplos:"
   ]
  },
  {
   "cell_type": "code",
   "execution_count": 28,
   "metadata": {},
   "outputs": [
    {
     "name": "stdout",
     "output_type": "stream",
     "text": [
      "Row 0:\n",
      " <tr><td colspan=\"5\">\n",
      "<span class=\"heading\">Current Senate Members</span>\n",
      "<span class=\"italics\">  104th  General Assembly</span><br/>\n",
      "<!-- 3/2/09 temp comment out until fixed for GA specific-->\n",
      "<!-- add 97th ga currently no info -->\n",
      "<a href=\"104th_Senate_Leadership.pdf\">Leadership</a> <a href=\"104th_Senate_Officers.pdf\">Officers</a> <a href=\"104th_Senate_Seating_Chart.pdf\">Senate Seating Chart</a>  <span class=\"content\"><b>Democrats:</b> 40   <b>Republicans:</b> 19</span><br/>\n",
      "</td></tr> \n",
      "\n",
      "Row 1:\n",
      " <tr>\n",
      "<td class=\"header\" width=\"45%\"><a class=\"filetab\" href=\"javascript:Sort('LastName','',104);\" title=\"Sort by Senator\">Senator</a></td>\n",
      "<td align=\"center\" class=\"header\" width=\"15%\">Bills</td>\n",
      "<td align=\"center\" class=\"header\" width=\"10%\">Committees</td>\n",
      "<td align=\"center\" class=\"header\" width=\"15%\"><a class=\"filetab\" href=\"javascript:Sort('DistrictNumber','',104);\" title=\"Sort by District\">District</a></td>\n",
      "<td align=\"center\" class=\"header\" width=\"15%\"><a class=\"filetab\" href=\"javascript:Sort('Party','',104);\" title=\"Sort by Party\">Party</a></td>\n",
      "</tr> \n",
      "\n",
      "Last Row:\n",
      " <tr>\n",
      "<td align=\"left\" class=\"footer\" width=\"107\">  <img alt=\"Legislative Information System logo\" height=\"45\" src=\"/images/lislogo.jpg\" width=\"100\"/></td>\n",
      "<td align=\"\" class=\"footer\" valign=\"top\" width=\"100%\">This site is maintained for the Illinois General Assembly \n",
      "by the<br/>Legislative Information System, 705 Stratton Building, Springfield, Illinois 62706<br/>\n",
      "<a class=\"links\" href=\"mailto:webmaster@ilga.gov?subject=Email from ILGA Web\" style=\"font-size:8px\">\n",
      "      Contact ILGA Webmaster</a>\n",
      "</td>\n",
      "</tr>\n"
     ]
    }
   ],
   "source": [
    "print('Row 0:\\n', rows[0], '\\n')\n",
    "print('Row 1:\\n', rows[1], '\\n')\n",
    "print('Last Row:\\n', rows[-1])"
   ]
  },
  {
   "cell_type": "markdown",
   "metadata": {},
   "source": [
    "Al escribir nuestro bucle for, queremos que solo se aplique a las filas relevantes. Por lo tanto, debemos filtrar las filas irrelevantes. Para ello, comparamos algunas de estas con las filas que necesitamos, observamos sus diferencias y luego formulamos esto en una condición.\n",
    "\n",
    "Como puedes imaginar, hay muchas maneras de hacerlo, y dependerá del sitio web. Aquí te mostraremos algunas para que te hagas una idea de cómo hacerlo."
   ]
  },
  {
   "cell_type": "code",
   "execution_count": 29,
   "metadata": {},
   "outputs": [
    {
     "name": "stdout",
     "output_type": "stream",
     "text": [
      "1\n",
      "11\n",
      "5\n",
      "5\n"
     ]
    }
   ],
   "source": [
    "# Bad rows\n",
    "print(len(rows[0]))\n",
    "print(len(rows[1]))\n",
    "\n",
    "# Good rows\n",
    "print(len(rows[2]))\n",
    "print(len(rows[3]))"
   ]
  },
  {
   "cell_type": "markdown",
   "metadata": {},
   "source": [
    "Quizás las filas buenas tengan una longitud de 5. Comprobémoslo:"
   ]
  },
  {
   "cell_type": "code",
   "execution_count": 30,
   "metadata": {},
   "outputs": [
    {
     "name": "stdout",
     "output_type": "stream",
     "text": [
      "<tr><td bgcolor=\"white\" class=\"detail\" width=\"40%\"><a class=\"notranslate\" href=\"/senate/Senator.asp?GA=104&amp;MemberID=3312\">Neil Anderson</a></td><td align=\"center\" bgcolor=\"white\" class=\"detail\" width=\"15%\"><a href=\"SenatorBills.asp?MemberID=3312\">Bills</a></td><td align=\"center\" bgcolor=\"white\" class=\"detail\" width=\"15%\"><a href=\"SenCommittees.asp?MemberID=3312\">Committees</a></td><td align=\"center\" bgcolor=\"white\" class=\"detail\" width=\"15%\">47</td><td align=\"center\" bgcolor=\"white\" class=\"detail\" width=\"15%\">R</td></tr> \n",
      "\n",
      "<tr><td bgcolor=\"white\" class=\"detail\" width=\"40%\"><a class=\"notranslate\" href=\"/senate/Senator.asp?GA=104&amp;MemberID=3315\">Dan McConchie</a></td><td align=\"center\" bgcolor=\"white\" class=\"detail\" width=\"15%\"><a href=\"SenatorBills.asp?MemberID=3315\">Bills</a></td><td align=\"center\" bgcolor=\"white\" class=\"detail\" width=\"15%\"><a href=\"SenCommittees.asp?MemberID=3315\">Committees</a></td><td align=\"center\" bgcolor=\"white\" class=\"detail\" width=\"15%\">26</td><td align=\"center\" bgcolor=\"white\" class=\"detail\" width=\"15%\">R</td></tr> \n",
      "\n",
      "<tr>\n",
      "<td align=\"left\" class=\"footer\" width=\"107\">  <img alt=\"Legislative Information System logo\" height=\"45\" src=\"/images/lislogo.jpg\" width=\"100\"/></td>\n",
      "<td align=\"\" class=\"footer\" valign=\"top\" width=\"100%\">This site is maintained for the Illinois General Assembly \n",
      "by the<br/>Legislative Information System, 705 Stratton Building, Springfield, Illinois 62706<br/>\n",
      "<a class=\"links\" href=\"mailto:webmaster@ilga.gov?subject=Email from ILGA Web\" style=\"font-size:8px\">\n",
      "      Contact ILGA Webmaster</a>\n",
      "</td>\n",
      "</tr>\n"
     ]
    }
   ],
   "source": [
    "good_rows = [row for row in rows if len(row) == 5]\n",
    "\n",
    "# Let's check some rows\n",
    "print(good_rows[0], '\\n')\n",
    "print(good_rows[-2], '\\n')\n",
    "print(good_rows[-1])"
   ]
  },
  {
   "cell_type": "markdown",
   "metadata": {},
   "source": [
    "Encontramos una fila de pie de página en nuestra lista que queremos evitar. Probemos algo diferente:"
   ]
  },
  {
   "cell_type": "code",
   "execution_count": 31,
   "metadata": {},
   "outputs": [
    {
     "data": {
      "text/plain": [
       "[<td bgcolor=\"white\" class=\"detail\" width=\"40%\"><a class=\"notranslate\" href=\"/senate/Senator.asp?GA=104&amp;MemberID=3312\">Neil Anderson</a></td>,\n",
       " <td align=\"center\" bgcolor=\"white\" class=\"detail\" width=\"15%\"><a href=\"SenatorBills.asp?MemberID=3312\">Bills</a></td>,\n",
       " <td align=\"center\" bgcolor=\"white\" class=\"detail\" width=\"15%\"><a href=\"SenCommittees.asp?MemberID=3312\">Committees</a></td>,\n",
       " <td align=\"center\" bgcolor=\"white\" class=\"detail\" width=\"15%\">47</td>,\n",
       " <td align=\"center\" bgcolor=\"white\" class=\"detail\" width=\"15%\">R</td>]"
      ]
     },
     "execution_count": 31,
     "metadata": {},
     "output_type": "execute_result"
    }
   ],
   "source": [
    "rows[2].select('td.detail') "
   ]
  },
  {
   "cell_type": "code",
   "execution_count": 32,
   "metadata": {},
   "outputs": [
    {
     "name": "stdout",
     "output_type": "stream",
     "text": [
      "[] \n",
      "\n",
      "[<td bgcolor=\"EBEBEB\" class=\"detail\" width=\"40%\"><a class=\"notranslate\" href=\"/senate/Senator.asp?GA=104&amp;MemberID=3413\">Chris Balkema</a></td>, <td align=\"center\" bgcolor=\"EBEBEB\" class=\"detail\" width=\"15%\"><a href=\"SenatorBills.asp?MemberID=3413\">Bills</a></td>, <td align=\"center\" bgcolor=\"EBEBEB\" class=\"detail\" width=\"15%\"><a href=\"SenCommittees.asp?MemberID=3413\">Committees</a></td>, <td align=\"center\" bgcolor=\"EBEBEB\" class=\"detail\" width=\"15%\">53</td>, <td align=\"center\" bgcolor=\"EBEBEB\" class=\"detail\" width=\"15%\">R</td>] \n",
      "\n",
      "Checking rows...\n",
      "\n",
      "<tr><td bgcolor=\"white\" class=\"detail\" width=\"40%\"><a class=\"notranslate\" href=\"/senate/Senator.asp?GA=104&amp;MemberID=3312\">Neil Anderson</a></td><td align=\"center\" bgcolor=\"white\" class=\"detail\" width=\"15%\"><a href=\"SenatorBills.asp?MemberID=3312\">Bills</a></td><td align=\"center\" bgcolor=\"white\" class=\"detail\" width=\"15%\"><a href=\"SenCommittees.asp?MemberID=3312\">Committees</a></td><td align=\"center\" bgcolor=\"white\" class=\"detail\" width=\"15%\">47</td><td align=\"center\" bgcolor=\"white\" class=\"detail\" width=\"15%\">R</td></tr> \n",
      "\n",
      "<tr><td bgcolor=\"white\" class=\"detail\" width=\"40%\"><a class=\"notranslate\" href=\"/senate/Senator.asp?GA=104&amp;MemberID=3315\">Dan McConchie</a></td><td align=\"center\" bgcolor=\"white\" class=\"detail\" width=\"15%\"><a href=\"SenatorBills.asp?MemberID=3315\">Bills</a></td><td align=\"center\" bgcolor=\"white\" class=\"detail\" width=\"15%\"><a href=\"SenCommittees.asp?MemberID=3315\">Committees</a></td><td align=\"center\" bgcolor=\"white\" class=\"detail\" width=\"15%\">26</td><td align=\"center\" bgcolor=\"white\" class=\"detail\" width=\"15%\">R</td></tr>\n"
     ]
    }
   ],
   "source": [
    "# Bad row\n",
    "print(rows[-1].select('td.detail'), '\\n')\n",
    "\n",
    "# Good row\n",
    "print(rows[5].select('td.detail'), '\\n')\n",
    "\n",
    "# How about this?\n",
    "good_rows = [row for row in rows if row.select('td.detail')]\n",
    "\n",
    "print(\"Checking rows...\\n\")\n",
    "print(good_rows[0], '\\n')\n",
    "print(good_rows[-1])"
   ]
  },
  {
   "cell_type": "markdown",
   "metadata": {},
   "source": [
    "¡Parece que encontramos algo que funcionó!"
   ]
  },
  {
   "cell_type": "markdown",
   "metadata": {},
   "source": [
    "## Enlazar todo\n",
    "\n",
    "Ahora que hemos visto cómo obtener los datos que queremos de una fila, así como filtrar las filas que no queremos, vamos a juntarlo todo en un bucle."
   ]
  },
  {
   "cell_type": "code",
   "execution_count": 33,
   "metadata": {
    "tags": []
   },
   "outputs": [],
   "source": [
    "# Define storage list\n",
    "members = []\n",
    "\n",
    "# Get rid of junk rows\n",
    "valid_rows = [row for row in rows if row.select('td.detail')]\n",
    "\n",
    "# Loop through all rows\n",
    "for row in valid_rows:\n",
    "    # Select only those 'td' tags with class 'detail'\n",
    "    detail_cells = row.select('td.detail')\n",
    "    # Keep only the text in each of those cells\n",
    "    row_data = [cell.text for cell in detail_cells]\n",
    "    # Collect information\n",
    "    name = row_data[0]\n",
    "    district = int(row_data[3])\n",
    "    party = row_data[4]\n",
    "    # Store in a tuple\n",
    "    senator = (name, district, party)\n",
    "    # Append to list\n",
    "    members.append(senator)"
   ]
  },
  {
   "cell_type": "code",
   "execution_count": 34,
   "metadata": {},
   "outputs": [
    {
     "data": {
      "text/plain": [
       "60"
      ]
     },
     "execution_count": 34,
     "metadata": {},
     "output_type": "execute_result"
    }
   ],
   "source": [
    "# Should be 61\n",
    "len(members)"
   ]
  },
  {
   "cell_type": "markdown",
   "metadata": {},
   "source": [
    "Echemos un vistazo a lo que tenemos en  `members`."
   ]
  },
  {
   "cell_type": "code",
   "execution_count": 35,
   "metadata": {},
   "outputs": [
    {
     "name": "stdout",
     "output_type": "stream",
     "text": [
      "[('Neil Anderson', 47, 'R'), ('Omar Aquino', 2, 'D'), ('Li Arellano, Jr.', 37, 'R'), ('Chris Balkema', 53, 'R'), ('Christopher Belt', 57, 'D')]\n"
     ]
    }
   ],
   "source": [
    "print(members[:5])"
   ]
  },
  {
   "cell_type": "markdown",
   "metadata": {},
   "source": [
    "## 🥊  Desafío: Obtener elementos `href` que apunten a los proyectos de ley de los miembros\n",
    "\n",
    "El código anterior recupera información sobre:\n",
    "- el nombre del senador\n",
    "- su número de distrito,\n",
    "- y su partido.\n",
    "\n",
    "Ahora queremos recuperar la URL de la lista de proyectos de ley de cada senador. Cada URL seguirá un formato específico. \n",
    "\n",
    "El formato de la lista de proyectos de ley para un senador determinado es:\n",
    "\n",
    "`http://www.ilga.gov/senate/SenatorBills.asp?GA=98&MemberID=[MEMBER_ID]&Primary=True`\n",
    "\n",
    "para obtener algo como:\n",
    "\n",
    "`http://www.ilga.gov/senate/SenatorBills.asp?MemberID=1911&GA=98&Primary=True`\n",
    "\n",
    "en el que `MEMBER_ID=1911`. \n",
    "\n",
    "Debería poder ver que, desafortunadamente, `MEMBER_ID` ` no es actualmente algo que se extraiga en nuestro código de raspado.\n",
    "\n",
    "Tu tarea inicial es modificar el código anterior para que también **recuperemos la URL completa que apunta a la página correspondiente de los proyectos de ley patrocinados por las primarias**, para cada miembro, y la devolvamos junto con su nombre, distrito y partido.\n",
    "\n",
    "Consejos: \n",
    "\n",
    "* Para ello, querrás obtener el elemento de anclaje apropiado (`<a>`) en cada fila de legisladores de la tabla. Puedes utilizar de nuevo el método `.select()` en el objeto `row` en el bucle para hacer esto - similar al comando que encuentra todas las celdas `td.detail` en la fila. Recuerda que sólo queremos el enlace a los proyectos de ley del legislador, no a los comités ni a la página de perfil del legislador.\n",
    "* El HTML de los elementos de anclaje tendrá el siguiente aspecto: `<a href=\"/senate/Senator.asp/...\">Bills</a>`. La cadena en el atributo `href` contiene el enlace **relative** que buscamos. Puedes acceder a un atributo de un objeto BeatifulSoup `Tag` de la misma forma que accedes a un diccionario de Python: `anchor['attributeName']`. Véase el <a href=\"http://www.crummy.com/software/BeautifulSoup/bs4/doc/#tag\">documentation</a> para más detalles.\n",
    "* Hay un montón de maneras diferentes de utilizar BeautifulSoup para hacer las cosas. lo que usted necesita hacer para sacar el `href` está bien.\n",
    "\n",
    "El código ha sido parcialmente rellenado para usted. Rellénalo donde dice `#YOUR CODE HERE`. Guarda la ruta en un objeto llamado `full_path`."
   ]
  },
  {
   "cell_type": "code",
   "execution_count": 36,
   "metadata": {
    "tags": []
   },
   "outputs": [],
   "source": [
    "# Make a GET request\n",
    "req = requests.get('http://www.ilga.gov/senate/default.asp?GA=104')\n",
    "# Read the content of the server’s response\n",
    "src = req.text\n",
    "# Soup it\n",
    "soup = BeautifulSoup(src, \"lxml\")\n",
    "# Create empty list to store our data\n",
    "members = []\n",
    "\n",
    "# Returns every ‘tr tr tr’ css selector in the page\n",
    "rows = soup.select('tr tr tr')\n",
    "# Get rid of junk rows\n",
    "rows = [row for row in rows if row.select('td.detail')]\n",
    "\n",
    "# Loop through all rows\n",
    "for row in rows:\n",
    "    # Select only those 'td' tags with class 'detail'\n",
    "    detail_cells = row.select('td.detail') \n",
    "    # Keep only the text in each of those cells\n",
    "    row_data = [cell.text for cell in detail_cells]\n",
    "    # Collect information\n",
    "    name = row_data[0]\n",
    "    district = int(row_data[3])\n",
    "    party = row_data[4]\n",
    "    \n",
    "    # YOUR CODE HERE\n",
    "    # Extract href\n",
    "    href = row.select('a')[1]['href']\n",
    "    # Create full path\n",
    "    full_path = \"http://www.ilga.gov/senate/\" + href + \"&Primary=True\"\n",
    "    \n",
    "    # Store in a tuple\n",
    "    senator = (name, district, party, full_path)\n",
    "    # Append to list\n",
    "    members.append(senator)"
   ]
  },
  {
   "cell_type": "code",
   "execution_count": 37,
   "metadata": {
    "tags": []
   },
   "outputs": [
    {
     "data": {
      "text/plain": [
       "[('Neil Anderson',\n",
       "  47,\n",
       "  'R',\n",
       "  'http://www.ilga.gov/senate/SenatorBills.asp?MemberID=3312&Primary=True'),\n",
       " ('Omar Aquino',\n",
       "  2,\n",
       "  'D',\n",
       "  'http://www.ilga.gov/senate/SenatorBills.asp?MemberID=3316&Primary=True'),\n",
       " ('Li Arellano, Jr.',\n",
       "  37,\n",
       "  'R',\n",
       "  'http://www.ilga.gov/senate/SenatorBills.asp?MemberID=3383&Primary=True'),\n",
       " ('Chris Balkema',\n",
       "  53,\n",
       "  'R',\n",
       "  'http://www.ilga.gov/senate/SenatorBills.asp?MemberID=3413&Primary=True'),\n",
       " ('Christopher Belt',\n",
       "  57,\n",
       "  'D',\n",
       "  'http://www.ilga.gov/senate/SenatorBills.asp?MemberID=3337&Primary=True')]"
      ]
     },
     "execution_count": 37,
     "metadata": {},
     "output_type": "execute_result"
    }
   ],
   "source": [
    "# Uncomment to test \n",
    "members[:5]"
   ]
  },
  {
   "cell_type": "markdown",
   "metadata": {},
   "source": [
    "## 🥊  Desafío: Modularice su código\n",
    "\n",
    "Convierta el código anterior en una función que acepte una URL, rastree la URL en busca de sus senadores y devuelva una lista de tuplas con información sobre cada senador."
   ]
  },
  {
   "cell_type": "code",
   "execution_count": 38,
   "metadata": {
    "tags": []
   },
   "outputs": [],
   "source": [
    "# YOUR CODE HERE\n",
    "def get_members(url):\n",
    "    # Make a GET request\n",
    "    req = requests.get(url)\n",
    "    # Read the content of the server’s response\n",
    "    src = req.text\n",
    "    # Soup it\n",
    "    soup = BeautifulSoup(src, \"lxml\")\n",
    "    # Create empty list to store our data\n",
    "    members = []\n",
    "\n",
    "    # Returns every ‘tr tr tr’ css selector in the page\n",
    "    rows = soup.select('tr tr tr')\n",
    "    # Get rid of junk rows\n",
    "    rows = [row for row in rows if row.select('td.detail')]\n",
    "\n",
    "    # Loop through all rows\n",
    "    for row in rows:\n",
    "        # Select only those 'td' tags with class 'detail'\n",
    "        detail_cells = row.select('td.detail') \n",
    "        # Keep only the text in each of those cells\n",
    "        row_data = [cell.text for cell in detail_cells]\n",
    "        # Collect information\n",
    "        name = row_data[0]\n",
    "        district = int(row_data[3])\n",
    "        party = row_data[4]\n",
    "\n",
    "        # YOUR CODE HERE\n",
    "        # Extract href\n",
    "        href = row.select('a')[1]['href']\n",
    "        # Create full path\n",
    "        full_path = \"http://www.ilga.gov/senate/\" + href + \"&Primary=True\"\n",
    "\n",
    "        # Store in a tuple\n",
    "        senator = (name, district, party, full_path)\n",
    "        # Append to list\n",
    "        members.append(senator)\n",
    "    return(members)"
   ]
  },
  {
   "cell_type": "code",
   "execution_count": 39,
   "metadata": {
    "tags": []
   },
   "outputs": [
    {
     "data": {
      "text/plain": [
       "60"
      ]
     },
     "execution_count": 39,
     "metadata": {},
     "output_type": "execute_result"
    }
   ],
   "source": [
    "# Test your code\n",
    "url = 'http://www.ilga.gov/senate/default.asp?GA=104'\n",
    "senate_members = get_members(url)\n",
    "len(senate_members)"
   ]
  },
  {
   "cell_type": "markdown",
   "metadata": {},
   "source": [
    "## 🥊 Reto para llevar a casa: Escribir una función rascadora\n",
    "\n",
    "Queremos raspar las páginas web correspondientes a los proyectos de ley patrocinados por cada uno de ellos.\n",
    "Escribe una función llamada `get_bills(url)` para analizar una URL de facturas dada. Esto implicará:\n",
    "\n",
    "  - solicitando la URL mediante la biblioteca <a href=\"http://docs.python-requests.org/en/latest/\">`requests`</a>   - utilizando las características de la biblioteca `BeautifulSoup` para encontrar todos los elementos `<td>` con la clase `billlist`.\n",
    "  - devuelve una _lista_ de tuplas, cada una con:\n",
    "      - descripción (2ª columna)\n",
    "      - cámara (S o H) (3ª columna)\n",
    "      - la última acción (4ª columna)\n",
    "      - la fecha de la última acción (5ª columna)\n",
    "      \n",
    "Esta función se ha completado parcialmente. Rellene el resto."
   ]
  },
  {
   "cell_type": "code",
   "execution_count": 40,
   "metadata": {
    "tags": []
   },
   "outputs": [],
   "source": [
    "def get_bills(url):\n",
    "    src = requests.get(url).text\n",
    "    soup = BeautifulSoup(src)\n",
    "    rows = soup.select('tr tr tr')\n",
    "    bills = []\n",
    "    # Iterate over rows\n",
    "    for row in rows:\n",
    "        # Grab all bill list cells\n",
    "        cells = row.select('td.billlist')\n",
    "        # Keep in mind the name of the senator is not a billlist class!\n",
    "        if len(cells) == 5:\n",
    "            row_text = [cell.text for cell in cells]\n",
    "            # Extract info from row text\n",
    "            bill_id = row_text[0]\n",
    "            description = row_text[1]\n",
    "            chamber = row_text[2]\n",
    "            last_action = row_text[3]\n",
    "            last_action_date = row_text[4]\n",
    "            # Consolidate bill info\n",
    "            bill = (bill_id, description, chamber, last_action, last_action_date)\n",
    "            bills.append(bill)\n",
    "    return bills"
   ]
  },
  {
   "cell_type": "code",
   "execution_count": 41,
   "metadata": {
    "tags": []
   },
   "outputs": [
    {
     "data": {
      "text/plain": [
       "[('SB174',\n",
       "  'INC TX-OVERTIME WAGES',\n",
       "  'S',\n",
       "  'Referred to Assignments',\n",
       "  '1/17/2025'),\n",
       " ('SB297',\n",
       "  'CRIM CD-FIREARM SILENCER',\n",
       "  'S',\n",
       "  'Referred to Assignments',\n",
       "  '1/24/2025'),\n",
       " ('SB298',\n",
       "  'FIREARM OWNERS ID ACT-REPEAL',\n",
       "  'S',\n",
       "  'Referred to Assignments',\n",
       "  '1/24/2025'),\n",
       " ('SB299',\n",
       "  'REINSTATE DEATH PENALTY',\n",
       "  'S',\n",
       "  'Referred to Assignments',\n",
       "  '1/24/2025'),\n",
       " ('SB1045',\n",
       "  'LOCAL GOVERNMENT-TECH',\n",
       "  'S',\n",
       "  'Placed on Calendar Order of 3rd Reading April 1, 2025',\n",
       "  '3/20/2025')]"
      ]
     },
     "execution_count": 41,
     "metadata": {},
     "output_type": "execute_result"
    }
   ],
   "source": [
    "# Uncomment to test your code\n",
    "test_url = senate_members[0][3]\n",
    "get_bills(test_url)[0:5]"
   ]
  },
  {
   "cell_type": "markdown",
   "metadata": {},
   "source": [
    "### Rechazar todas las facturas\n",
    "\n",
    "Por último, crea un diccionario `bills_dict` que asigne un número de distrito (la clave) a una lista de proyectos de ley (el valor) procedentes de ese distrito. Puedes hacerlo recorriendo todos los miembros del senado en `members_dict` y llamando a `get_bills()` para cada una de sus URLs de proyectos de ley asociadas.\n",
    "\n",
    "**NOTA:** por favor llama a la función `time.sleep(1)` en cada iteración del bucle, para que no destruyamos la web del estado."
   ]
  },
  {
   "cell_type": "code",
   "execution_count": 47,
   "metadata": {
    "tags": []
   },
   "outputs": [],
   "source": [
    "# YOUR CODE HERE\n",
    "bills_dict = {}\n",
    "for member in senate_members[:5]:\n",
    "    bills_dict[member[1]] = get_bills(member[3])\n",
    "    time.sleep(1)"
   ]
  },
  {
   "cell_type": "code",
   "execution_count": 48,
   "metadata": {},
   "outputs": [
    {
     "name": "stdout",
     "output_type": "stream",
     "text": [
      "{47: [('SB174', 'INC TX-OVERTIME WAGES', 'S', 'Referred to Assignments', '1/17/2025'), ('SB297', 'CRIM CD-FIREARM SILENCER', 'S', 'Referred to Assignments', '1/24/2025'), ('SB298', 'FIREARM OWNERS ID ACT-REPEAL', 'S', 'Referred to Assignments', '1/24/2025'), ('SB299', 'REINSTATE DEATH PENALTY', 'S', 'Referred to Assignments', '1/24/2025'), ('SB1045', 'LOCAL GOVERNMENT-TECH', 'S', 'Placed on Calendar Order of 3rd Reading April 1, 2025', '3/20/2025'), ('SB1208', 'CONCEALED CARRY-RECIPROCITY', 'S', 'To Firearms', '2/19/2025'), ('SB1209', 'FOID&CONCEALED CARRY-AMMO', 'S', 'Referred to Assignments', '1/24/2025'), ('SB1210', 'SCH CD-FIREARM SAFETY COURSE', 'S', 'Referred to Assignments', '1/24/2025'), ('SB1211', 'CONCEAL CARRY-TRANSPORT-PARKS', 'S', 'To Firearms', '2/19/2025'), ('SB1212', 'CONCEALED CARRY-DOT REST AREAS', 'S', 'To Firearms', '2/19/2025'), ('SB1213', 'CONCEAL CARRY-PUBLIC TRANSPORT', 'S', 'To Firearms', '2/19/2025'), ('SB1214', 'FIREARM-FIREFIGHTERS EXCEPTION', 'S', 'Referred to Assignments', '1/24/2025'), ('SB1215', 'GUN CRIME CHARGE & SENTENCING', 'S', 'Referred to Assignments', '1/24/2025'), ('SB1245', 'OFF-HWY VEH ON ROADWAY', 'S', 'Referred to Assignments', '1/24/2025'), ('SB1313', 'TRUST ACT-NONCITIZEN DETAINEE', 'S', 'Referred to Assignments', '1/28/2025'), ('SB1426', 'WEATHER MODIFICATION-SEEDING', 'S', 'Referred to Assignments', '1/31/2025'), ('SB1427', 'SNAPPING TURTLES-TRAP', 'S', 'Referred to Assignments', '1/31/2025'), ('SB1428', 'FISH/HUNT-GOLD STAR FAMILY', 'S', 'Assigned to Appropriations', '2/11/2025'), ('SB1629', 'CMS-MEDICARE AUDIT', 'S', 'Referred to Assignments', '2/4/2025'), ('SB1631', 'PEN CD-GARS-LIMIT MEMBERSHIP', 'S', 'Referred to Assignments', '2/4/2025'), ('SB1736', 'EDUCATION-TECH', 'S', 'Referred to Assignments', '2/5/2025'), ('SB1780', 'INVEST IL-COUNTRIES OF CONCERN', 'S', 'Referred to Assignments', '2/6/2025'), ('SB1814', 'DPH-AMNIOTIC FLUID EMBOLISM', 'S', 'Placed on Calendar Order of 3rd Reading March 6, 2025', '3/5/2025'), ('SB1862', 'PROP TX-30 YEAR HOMESTEAD', 'S', 'Referred to Assignments', '2/6/2025'), ('SB2049', 'WILDLIFE CD-HUNTING YEAR-RND', 'S', 'Referred to Assignments', '2/6/2025'), ('SB2050', 'WILDLIFE CD-OWNER YEAR-ROUND', 'S', 'Referred to Assignments', '2/6/2025'), ('SB2060', 'SCH CD-SUSPENSION/EXPULSION', 'S', 'Referred to Assignments', '2/6/2025'), ('SB2061', 'WILDLIFE CD-COMPENSATION', 'S', 'Referred to Assignments', '2/6/2025'), ('SB2081', 'VEH CD-FLEET PLATES-LOCAL GOV', 'S', 'Referred to Assignments', '2/6/2025'), ('SB2222', 'DIRECT RECORDING ELEC VOTING', 'S', 'To Elections', '3/19/2025'), ('SB2376', 'CRIM PRO-PRETRIAL RELEASE', 'S', 'Referred to Assignments', '2/7/2025'), ('SB2384', 'RESTORES PRE-P.A. 101-652', 'S', 'Referred to Assignments', '2/7/2025'), ('SR25', 'PRADER-WILLI SYNDROME MONTH', 'S', \"Placed on Calendar Order of Secretary's Desk Resolutions February 18, 2025\", '2/5/2025'), ('SR33', 'CONGRATS-HAVANA CH. OF CHRIST', 'S', 'Referred to Assignments', '1/24/2025'), ('SR50', 'MEMORIAL-WILLIAM WILKINSON', 'S', 'Resolution Adopted', '1/29/2025'), ('SR51', 'MEMORIAL-RALPH V. FROEHLING', 'S', 'Resolution Adopted', '1/29/2025'), ('SR52', 'MEMORIAL-MARLIN L. REYNOLDS', 'S', 'Resolution Adopted', '1/29/2025'), ('SR53', 'MEMORIAL-THOMAS LEE KENNEDY', 'S', 'Resolution Adopted', '1/29/2025'), ('SR54', 'MEMORIAL-RAY A. YOUNG', 'S', 'Resolution Adopted', '1/29/2025'), ('SR55', 'MEMORIAL-DUANE JOHN DAVIS', 'S', 'Resolution Adopted', '1/29/2025'), ('SR56', 'MEMORIAL-DR. DANIEL L. PARR', 'S', 'Resolution Adopted', '1/29/2025'), ('SR57', 'MEMORIAL-CHARLES R. MASKEL', 'S', 'Resolution Adopted', '1/29/2025'), ('SR132', 'MEMORIAL-RAYMOND D. CRAIG', 'S', 'Resolution Adopted', '2/27/2025'), ('SR133', 'MEMORIAL-JOHN D. ROGERS', 'S', 'Resolution Adopted', '2/27/2025'), ('SR134', 'MEMORIAL-ROBERT E. BUCK', 'S', 'Resolution Adopted', '2/27/2025'), ('SR135', 'MEMORIAL-FRED PALIN', 'S', 'Resolution Adopted', '2/27/2025'), ('SR137', 'MEMORIAL-WALTER J. DAVIS', 'S', 'Resolution Adopted', '2/27/2025'), ('SR139', 'MEMORIAL-SAMUEL H. PORTER', 'S', 'Resolution Adopted', '3/6/2025'), ('SR156', 'MEMORIAL-ROBERT F. CLAYBERG', 'S', 'Resolution Adopted', '3/6/2025'), ('SJRCA2', 'CONAMEND-BUDGET FIRST', 'S', 'Referred to Assignments', '1/28/2025')], 2: [('SB169', 'STUDENT INVESTMENT ACCOUNT', 'S', 'Placed on Calendar Order of 3rd Reading March 4, 2025', '2/27/2025'), ('SB1263', 'HEALTH FACILITY-OUTDOOR ACCESS', 'S', 'Postponed - Health and Human Services', '3/19/2025'), ('SB1484', 'FACILITATE VOTING FOR ALL', 'S', 'Referred to Assignments', '1/31/2025'), ('SB1485', 'SEIZURE & FORFEITURE REPORT', 'S', 'Assigned to Judiciary', '3/12/2025'), ('SB1486', 'CONSUMER FRAUD-FEE DISCLOSURE', 'S', 'Placed on Calendar Order of 2nd Reading March 20, 2025', '3/19/2025'), ('SB1487', 'STATE GOVERNMENT-TECH', 'S', 'Referred to Assignments', '1/31/2025'), ('SB1619', 'PUBLIC DEFENDER-COOK COUNTY', 'S', 'Referred to Assignments', '2/4/2025'), ('SB1679', 'HEALTH CARE TRANSPARENCY', 'S', 'Referred to Assignments', '2/5/2025'), ('SB1680', 'TRANSPORTATION-GREENHOUSE GAS', 'S', 'Assigned to Energy and Public Utilities', '3/12/2025'), ('SB1681', 'TRUST ACT-TECH', 'S', 'Referred to Assignments', '2/5/2025'), ('SB1765', 'DHFS-SLF EXPANSION', 'S', 'Assigned to Appropriations- Health and Human Services', '2/18/2025'), ('SB2305', 'IL TRUST ACT CHANGES', 'S', 'Referred to Assignments', '2/7/2025'), ('SB2464', 'EARLY CHILDHOOD-TECH', 'S', 'Referred to Assignments', '2/7/2025'), ('SB2465', 'REVENUE-TECH', 'S', 'Referred to Assignments', '2/7/2025'), ('SB2466', 'OPEN LANDS-GRANTS TO GOVTS', 'S', 'Placed on Calendar Order of 2nd Reading April 1, 2025', '3/20/2025'), ('SB2467', '$DCEO/ICCB-GRANTS', 'S', 'Assigned to Appropriations', '3/4/2025')], 37: [('SB1277', 'POWER AG-SOLAR SURETY BONDS', 'S', 'Referred to Assignments', '1/28/2025'), ('SB1544', 'DNR-DEER MGMT PLAN', 'S', 'Rule 3-9(a) / Re-referred to Assignments', '3/21/2025'), ('SB1573', 'ELECTRONIC NOTARY FEE WAIVER', 'S', 'Referred to Assignments', '2/4/2025'), ('SB1719', 'LOC GOV-ELECTRONIC RECORDS', 'S', 'To Government Operations', '2/19/2025'), ('SB1720', 'LOCAL GOVERNMENT-TECH', 'S', 'Referred to Assignments', '2/5/2025'), ('SB1721', 'PUBLIC INVESTMENT-INDEX FUND', 'S', 'Referred to Assignments', '2/5/2025'), ('SB1734', 'INC TX-STANDARD EXEMPTION', 'S', 'Referred to Assignments', '2/5/2025'), ('SB1923', 'RECREATION LAND USE LIABILITY', 'S', 'Referred to Assignments', '2/6/2025'), ('SB2076', 'GRADUATED LICENSE SUSPENSION', 'S', 'Referred to Assignments', '2/6/2025'), ('SB2077', 'WILDLIFE REMOVAL PERMIT', 'S', 'Referred to Assignments', '2/6/2025'), ('SB2177', 'ADOPTION-PARENTAL UNFITNESS', 'S', 'Referred to Assignments', '2/7/2025'), ('SB2291', 'ROCK RIVER PLANNING-TECH', 'S', 'Referred to Assignments', '2/7/2025'), ('SB2292', 'PERS CD-HIRING DEADLINES', 'S', 'Referred to Assignments', '2/7/2025'), ('SB2293', 'WILDLIFE/FISH LICENSES', 'S', 'Referred to Assignments', '2/7/2025')], 53: [('SB1276', 'COUNTIES-WIND & SOLAR ENERGY', 'S', 'Referred to Assignments', '1/28/2025'), ('SB1347', 'CITIZENS EMPOWERMENT ACT', 'S', 'Referred to Assignments', '1/28/2025'), ('SB1517', 'WILDLIFE-TECH', 'S', 'Referred to Assignments', '2/4/2025'), ('SB1759', '$IDOT-ROUTE 6', 'S', 'Assigned to Appropriations- Public Safety and Infrastructure', '2/18/2025'), ('SB1760', 'POLICE CHAPLAINS', 'S', 'Referred to Assignments', '2/5/2025'), ('SB1761', 'DCEO-LOCAL GOV GRANT PROGRAM', 'S', 'Assigned to Appropriations- Public Safety and Infrastructure', '2/18/2025'), ('SB1762', '$DCEO-LOCAL GOV GRANTS', 'S', 'Assigned to Appropriations- Public Safety and Infrastructure', '2/18/2025'), ('SB1763', 'PROPERTY ASSESSMENT ROLLS', 'S', 'Referred to Assignments', '2/5/2025'), ('SB1783', 'STOP GOVERNMENT SEX SHOWS ACT', 'S', 'Referred to Assignments', '2/6/2025'), ('SB1864', 'HIGHER ED-EVALUATE INSTRUCTOR', 'S', 'Referred to Assignments', '2/6/2025'), ('SB1865', 'CAMPUS FREE SPEECH ACT', 'S', 'Referred to Assignments', '2/6/2025'), ('SB1866', 'SAFETY-TECH', 'S', 'Referred to Assignments', '2/6/2025'), ('SB1867', 'SCH CD-EDUCATOR TESTING', 'S', 'Referred to Assignments', '2/6/2025'), ('SB1915', 'SCH-NOTICE-READING DEFICIENCY', 'S', 'Referred to Assignments', '2/6/2025'), ('SB1916', 'RECYCLABLE METAL PURCHASE', 'S', 'Referred to Assignments', '2/6/2025'), ('SB1917', 'DETERRENT ACT', 'S', 'Referred to Assignments', '2/6/2025'), ('SB1935', 'REGULATORY SUNSET-STUDY', 'S', 'Referred to Assignments', '2/6/2025'), ('SB2043', 'WILDLIFE-HUNTER SAFETY', 'S', 'Referred to Assignments', '2/6/2025'), ('SB2044', 'WEB-BASED SIGNATURES ACT', 'S', 'Assigned to Executive', '3/18/2025'), ('SB2045', 'UNEMPLOYMENT-BENEFIT FORMULA', 'S', 'Referred to Assignments', '2/6/2025'), ('SB2046', '$IDOT-I80/MINOOKA', 'S', 'Assigned to Appropriations- Public Safety and Infrastructure', '2/25/2025'), ('SB2047', 'SELF-CERTIFICATION PROGRAM', 'S', 'Referred to Assignments', '2/6/2025'), ('SB2113', 'HIGHER ED-VOTING INCENTIVES', 'S', 'Referred to Assignments', '2/7/2025'), ('SB2114', 'REMOVE SENATE CONSENT', 'S', 'Referred to Assignments', '2/7/2025'), ('SB2206', 'KANKAKEE & IROQUOIS COMMISSION', 'S', 'Referred to Assignments', '2/7/2025'), ('SB2207', 'HUMAN TRAFFICKING TRAINING', 'S', 'Rule 3-9(a) / Re-referred to Assignments', '3/21/2025'), ('SB2208', 'DRIVER BAC VIOLATIONS', 'S', 'Referred to Assignments', '2/7/2025'), ('SB2209', 'PONTIAC CORRECTIONAL RESTORE', 'S', 'Referred to Assignments', '2/7/2025'), ('SB2210', 'ISP-PONTIAC-RESTORE SITE', 'S', 'Referred to Assignments', '2/7/2025'), ('SB2211', 'DWIGHT CORRECTIONAL-RESTORE', 'S', 'Referred to Assignments', '2/7/2025'), ('SB2340', 'SCH CD-TRANSFER TRANSPARENCY', 'S', 'Referred to Assignments', '2/7/2025'), ('SB2341', 'CRIM PRO-DETAINABLE OFFENSES', 'S', 'Referred to Assignments', '2/7/2025'), ('SB2342', 'PEN CD-SERS-DC PLAN', 'S', 'Referred to Assignments', '2/7/2025'), ('SB2389', 'USE/OCC TX-MULTISTATE', 'S', 'Referred to Assignments', '2/7/2025'), ('SB2522', '$IEPA-CITY OF MORRIS LANDFILL', 'S', 'Referred to Assignments', '2/18/2025'), ('SR124', 'SUPPORT ILLINOIS FARMERS', 'S', 'Assigned to Agriculture', '3/18/2025'), ('SJR12', 'IL ROUTE 66 100 YEARS', 'H', 'Referred to Rules Committee', '3/21/2025'), ('SJR24', 'ILLINOIS BACON DAY', 'S', 'Assigned to Agriculture', '3/18/2025')], 57: [('SB21', 'HOSPITAL STAFFING LEVELS', 'S', 'Referred to Assignments', '1/13/2025'), ('SB22', 'MOTOR FUEL-VARIOUS', 'S', 'Referred to Assignments', '1/13/2025'), ('SB58', 'DCEO-REGIONAL MANUFACTURING', 'S', 'Placed on Calendar Order of 2nd Reading March 18, 2025', '3/6/2025'), ('SB164', 'PREVAILING WAGE-FED PROJECT', 'S', 'Placed on Calendar Order of 3rd Reading April 1, 2025', '3/20/2025'), ('SB260', 'BUSINESS FINANCE TRANSPARENCY', 'S', 'Referred to Assignments', '1/24/2025'), ('SB1294', 'PROCUREMENT-OUTSIDE OF U.S.', 'S', 'To Procurement', '2/19/2025'), ('SB1669', 'LANDLORD-TENANT-PET FEES', 'S', 'Assigned to Judiciary', '2/18/2025'), ('SB1670', 'FAMILY BEREAVEMENT-ANIMALS', 'S', 'Referred to Assignments', '2/5/2025'), ('SB1671', 'LIABILITY-ONLINE SELLERS', 'S', 'Referred to Assignments', '2/5/2025'), ('SB1672', 'SCH CD-EARLY LITERACY-SCREEN', 'S', 'Placed on Calendar Order of 2nd Reading March 20, 2025', '3/19/2025'), ('SB1673', 'USE/OCC TAX-HOLIDAY', 'S', 'Assigned to Revenue', '2/18/2025'), ('SB1674', 'GREEN ALERTS-VETERANS', 'S', 'Rule 3-9(a) / Re-referred to Assignments', '3/21/2025'), ('SB1675', 'MILITARY JUSTICE-OFFENSES', 'S', 'Placed on Calendar Order of 3rd Reading March 6, 2025', '3/5/2025'), ('SB1676', 'CORRECTIONS-SUPERVISED RELEASE', 'S', 'Referred to Assignments', '2/5/2025'), ('SB1677', 'SCH CD-TEACHER EVALUATION PLAN', 'S', 'To AI and Social Media', '3/19/2025'), ('SB1685', 'DEBT RESOLUTION SERVICES ACT', 'S', 'Referred to Assignments', '2/5/2025'), ('SB1686', 'ENVIRONMENTAL PARTICIPATION', 'S', 'Postponed - Environment and Conservation', '3/20/2025'), ('SB1687', 'INS CD-CRIBS AND CAR SEATS', 'S', 'Referred to Assignments', '2/5/2025'), ('SB1854', 'HOMOCIDE INVESTIGATOR TRAINING', 'S', 'Referred to Assignments', '2/6/2025'), ('SB1855', 'MUNI CD-LAW ENFORCEMENT', 'S', 'Referred to Assignments', '2/6/2025'), ('SB2346', 'BANK COMMUNITY REINVESTMENT', 'S', 'Referred to Assignments', '2/7/2025'), ('SB2347', 'DFPR-CRIMINAL CONVICTIONS', 'S', 'Postponed - Licensed Activities', '3/19/2025'), ('SB2348', 'HAIR BRAIDING LICENSURE REPEAL', 'S', 'Postponed - Licensed Activities', '3/19/2025'), ('SB2349', 'HIGHER ED-MIN EMPLOYEE SALARY', 'S', 'Assigned to Appropriations- Education', '3/4/2025'), ('SB2448', 'UNI DIRECT ADMISSION PROGRAM', 'S', 'Placed on Calendar Order of 2nd Reading March 20, 2025', '3/19/2025'), ('SB2481', 'FINANCE-CAPITAL DEV LOAN FUND', 'S', 'Placed on Calendar Order of 2nd Reading March 20, 2025', '3/19/2025'), ('SR5', 'ONLINE SAFETY EDUCATION', 'S', \"Placed on Calendar Order of Secretary's Desk Resolutions February 27, 2025\", '2/26/2025'), ('SR32', 'MEMORIAL-DR. OBIE RUSH', 'S', 'Resolution Adopted', '1/29/2025'), ('SR39', 'SOCIAL SECURITY AGE INCREASE', 'S', \"Placed on Calendar Order of Secretary's Desk Resolutions February 20, 2025\", '2/19/2025'), ('SR150', 'CONGRATS-GLYN RAMAGE', 'S', 'Referred to Assignments', '3/4/2025')]}\n"
     ]
    }
   ],
   "source": [
    "print(bills_dict)"
   ]
  },
  {
   "cell_type": "code",
   "execution_count": 49,
   "metadata": {
    "tags": []
   },
   "outputs": [
    {
     "data": {
      "text/plain": [
       "50"
      ]
     },
     "execution_count": 49,
     "metadata": {},
     "output_type": "execute_result"
    }
   ],
   "source": [
    "# Uncomment to test your code\n",
    "len(bills_dict[47])"
   ]
  }
 ],
 "metadata": {
  "anaconda-cloud": {},
  "kernelspec": {
   "display_name": "Python 3",
   "language": "python",
   "name": "python3"
  },
  "language_info": {
   "codemirror_mode": {
    "name": "ipython",
    "version": 3
   },
   "file_extension": ".py",
   "mimetype": "text/x-python",
   "name": "python",
   "nbconvert_exporter": "python",
   "pygments_lexer": "ipython3",
   "version": "3.12.1"
  }
 },
 "nbformat": 4,
 "nbformat_minor": 4
}
